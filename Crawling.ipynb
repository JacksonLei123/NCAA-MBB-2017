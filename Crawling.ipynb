{
 "cells": [
  {
   "cell_type": "markdown",
   "metadata": {},
   "source": [
    "Import all the stuff we might need."
   ]
  },
  {
   "cell_type": "code",
   "execution_count": 81,
   "metadata": {
    "collapsed": true
   },
   "outputs": [],
   "source": [
    "%matplotlib inline\n",
    "import numpy as np\n",
    "import pandas as pd\n",
    "import matplotlib.pyplot as plt\n",
    "import seaborn as sb\n",
    "import requests\n",
    "import networkx as nx\n",
    "from bs4 import BeautifulSoup, NavigableString"
   ]
  },
  {
   "cell_type": "markdown",
   "metadata": {},
   "source": [
    "Get the tournament page data."
   ]
  },
  {
   "cell_type": "code",
   "execution_count": 2,
   "metadata": {
    "collapsed": false
   },
   "outputs": [],
   "source": [
    "raw = requests.get('http://www.sports-reference.com/cbb/postseason/2017-ncaa.html').text\n",
    "soup = BeautifulSoup(raw,'lxml')"
   ]
  },
  {
   "cell_type": "markdown",
   "metadata": {},
   "source": [
    "Parse out all the divisions."
   ]
  },
  {
   "cell_type": "code",
   "execution_count": 4,
   "metadata": {
    "collapsed": false
   },
   "outputs": [],
   "source": [
    "east_soup = soup.find_all('div',{'id':'east'})[0]\n",
    "midwest_soup = soup.find_all('div',{'id':'midwest'})[0]\n",
    "south_soup = soup.find_all('div',{'id':'south'})[0]\n",
    "west_soup = soup.find_all('div',{'id':'west'})[0]"
   ]
  },
  {
   "cell_type": "markdown",
   "metadata": {},
   "source": [
    "Write a function to get all the teams in each division by parsing the HTML."
   ]
  },
  {
   "cell_type": "code",
   "execution_count": 7,
   "metadata": {
    "collapsed": false
   },
   "outputs": [],
   "source": [
    "def get_teams(division_soup):\n",
    "    teams_href_list = list()\n",
    "    first_round_teams = list(division_soup.find_all('div',{'class':'round'})[0].children)\n",
    "    for team_soup in first_round_teams:\n",
    "        if type(team_soup) != NavigableString:\n",
    "            pairs = team_soup.find_all('a')\n",
    "            for team in pairs:\n",
    "                if team.text != 'tbd':\n",
    "                    teams_href_list.append(team)\n",
    "    return teams_href_list"
   ]
  },
  {
   "cell_type": "markdown",
   "metadata": {},
   "source": [
    "Run the function on each division's `soup` and add them all together for a list of all teams in the 2017 tournament."
   ]
  },
  {
   "cell_type": "code",
   "execution_count": 39,
   "metadata": {
    "collapsed": false,
    "scrolled": true
   },
   "outputs": [
    {
     "data": {
      "text/plain": [
       "[<a href=\"/cbb/schools/villanova/2017.html\">Villanova</a>,\n",
       " <a href=\"/cbb/schools/wisconsin/2017.html\">Wisconsin</a>,\n",
       " <a href=\"/cbb/schools/virginia-tech/2017.html\">Virginia Tech</a>,\n",
       " <a href=\"/cbb/schools/virginia/2017.html\">Virginia</a>,\n",
       " <a href=\"/cbb/schools/north-carolina-wilmington/2017.html\">North Carolina-Wilmington</a>,\n",
       " <a href=\"/cbb/schools/florida/2017.html\">Florida</a>,\n",
       " <a href=\"/cbb/schools/east-tennessee-state/2017.html\">ETSU</a>,\n",
       " <a href=\"/cbb/schools/southern-methodist/2017.html\">SMU</a>,\n",
       " <a href=\"/cbb/schools/baylor/2017.html\">Baylor</a>,\n",
       " <a href=\"/cbb/schools/new-mexico-state/2017.html\">New Mexico State</a>,\n",
       " <a href=\"/cbb/schools/south-carolina/2017.html\">South Carolina</a>,\n",
       " <a href=\"/cbb/schools/marquette/2017.html\">Marquette</a>,\n",
       " <a href=\"/cbb/schools/duke/2017.html\">Duke</a>,\n",
       " <a href=\"/cbb/schools/troy/2017.html\">Troy</a>,\n",
       " <a href=\"/cbb/schools/kansas/2017.html\">Kansas</a>,\n",
       " <a href=\"/cbb/schools/miami-fl/2017.html\">Miami (FL)</a>,\n",
       " <a href=\"/cbb/schools/michigan-state/2017.html\">Michigan State</a>,\n",
       " <a href=\"/cbb/schools/iowa-state/2017.html\">Iowa State</a>,\n",
       " <a href=\"/cbb/schools/nevada/2017.html\">Nevada</a>,\n",
       " <a href=\"/cbb/schools/purdue/2017.html\">Purdue</a>,\n",
       " <a href=\"/cbb/schools/vermont/2017.html\">Vermont</a>,\n",
       " <a href=\"/cbb/schools/creighton/2017.html\">Creighton</a>,\n",
       " <a href=\"/cbb/schools/rhode-island/2017.html\">Rhode Island</a>,\n",
       " <a href=\"/cbb/schools/oregon/2017.html\">Oregon</a>,\n",
       " <a href=\"/cbb/schools/iona/2017.html\">Iona</a>,\n",
       " <a href=\"/cbb/schools/michigan/2017.html\">Michigan</a>,\n",
       " <a href=\"/cbb/schools/oklahoma-state/2017.html\">Oklahoma State</a>,\n",
       " <a href=\"/cbb/schools/louisville/2017.html\">Louisville</a>,\n",
       " <a href=\"/cbb/schools/jacksonville-state/2017.html\">Jacksonville State</a>,\n",
       " <a href=\"/cbb/schools/north-carolina/2017.html\">UNC</a>,\n",
       " <a href=\"/cbb/schools/texas-southern/2017.html\">Texas Southern</a>,\n",
       " <a href=\"/cbb/schools/arkansas/2017.html\">Arkansas</a>,\n",
       " <a href=\"/cbb/schools/seton-hall/2017.html\">Seton Hall</a>,\n",
       " <a href=\"/cbb/schools/minnesota/2017.html\">Minnesota</a>,\n",
       " <a href=\"/cbb/schools/middle-tennessee/2017.html\">Middle Tennessee</a>,\n",
       " <a href=\"/cbb/schools/butler/2017.html\">Butler</a>,\n",
       " <a href=\"/cbb/schools/winthrop/2017.html\">Winthrop</a>,\n",
       " <a href=\"/cbb/schools/cincinnati/2017.html\">Cincinnati</a>,\n",
       " <a href=\"/cbb/schools/ucla/2017.html\">UCLA</a>,\n",
       " <a href=\"/cbb/schools/kent-state/2017.html\">Kent State</a>,\n",
       " <a href=\"/cbb/schools/dayton/2017.html\">Dayton</a>,\n",
       " <a href=\"/cbb/schools/wichita-state/2017.html\">Wichita State</a>,\n",
       " <a href=\"/cbb/schools/kentucky/2017.html\">Kentucky</a>,\n",
       " <a href=\"/cbb/schools/northern-kentucky/2017.html\">Northern Kentucky</a>,\n",
       " <a href=\"/cbb/schools/gonzaga/2017.html\">Gonzaga</a>,\n",
       " <a href=\"/cbb/schools/south-dakota-state/2017.html\">South Dakota State</a>,\n",
       " <a href=\"/cbb/schools/northwestern/2017.html\">Northwestern</a>,\n",
       " <a href=\"/cbb/schools/vanderbilt/2017.html\">Vanderbilt</a>,\n",
       " <a href=\"/cbb/schools/notre-dame/2017.html\">Notre Dame</a>,\n",
       " <a href=\"/cbb/schools/princeton/2017.html\">Princeton</a>,\n",
       " <a href=\"/cbb/schools/west-virginia/2017.html\">West Virginia</a>,\n",
       " <a href=\"/cbb/schools/bucknell/2017.html\">Bucknell</a>,\n",
       " <a href=\"/cbb/schools/maryland/2017.html\">Maryland</a>,\n",
       " <a href=\"/cbb/schools/xavier/2017.html\">Xavier</a>,\n",
       " <a href=\"/cbb/schools/florida-state/2017.html\">Florida State</a>,\n",
       " <a href=\"/cbb/schools/florida-gulf-coast/2017.html\">Florida Gulf Coast</a>,\n",
       " <a href=\"/cbb/schools/saint-marys-ca/2017.html\">Saint Mary's (CA)</a>,\n",
       " <a href=\"/cbb/schools/virginia-commonwealth/2017.html\">VCU</a>,\n",
       " <a href=\"/cbb/schools/arizona/2017.html\">Arizona</a>,\n",
       " <a href=\"/cbb/schools/north-dakota/2017.html\">North Dakota</a>]"
      ]
     },
     "execution_count": 39,
     "metadata": {},
     "output_type": "execute_result"
    }
   ],
   "source": [
    "east_teams_2017 = get_teams(east_soup)\n",
    "midwest_teams_2017 = get_teams(midwest_soup)\n",
    "south_teams_2017 = get_teams(south_soup)\n",
    "west_teams_2017 = get_teams(west_soup)\n",
    "teams_2017 = east_teams_2017 + midwest_teams_2017 + south_teams_2017 + west_teams_2017\n",
    "teams_2017"
   ]
  },
  {
   "cell_type": "markdown",
   "metadata": {},
   "source": [
    "Crawl all the data and save the tables you find to disk. This will take about 60 seconds."
   ]
  },
  {
   "cell_type": "code",
   "execution_count": 40,
   "metadata": {
    "collapsed": false
   },
   "outputs": [],
   "source": [
    "for team in teams_2017:\n",
    "    name = \"2017-{0}\".format(team.text)\n",
    "    url = 'http://www.sports-reference.com/' + team['href'].replace('2017.html','2017-schedule.html')\n",
    "    team_raw = requests.get(url).text\n",
    "    team_soup = BeautifulSoup(team_raw,'lxml')\n",
    "    df = pd.read_html(str(team_soup.find_all('table',{'class':'sortable stats_table','id':'schedule'})[0]))[0]\n",
    "    df = df.set_index('G')\n",
    "    df.to_csv(name + '.csv')"
   ]
  },
  {
   "cell_type": "markdown",
   "metadata": {},
   "source": [
    "Alternatively, crawl the data and parse out the relevant fields and save in a giant list of results."
   ]
  },
  {
   "cell_type": "code",
   "execution_count": 72,
   "metadata": {
    "collapsed": false
   },
   "outputs": [],
   "source": [
    "all_results = list()\n",
    "for team in teams_2017:\n",
    "    url = 'http://www.sports-reference.com/' + team['href'].replace('2017.html','2017-schedule.html')\n",
    "    team_raw = requests.get(url).text\n",
    "    team_soup = BeautifulSoup(team_raw,'lxml')\n",
    "    table = team_soup.find_all('table',{'class':'sortable stats_table','id':'schedule'})[0]\n",
    "    date = [i['csk'] for i in table.find_all('td',{'data-stat':'date_game'})]\n",
    "    opponents = [i.text.split('\\xa0')[0] for i in table.find_all('td',{'data-stat':'opp_name'})]\n",
    "    results = [i.text for i in table.find_all('td',{'data-stat':'game_result'})]\n",
    "    team_score = [i.text for i in table.find_all('td',{'data-stat':'pts'})]\n",
    "    opponent_score = [i.text for i in table.find_all('td',{'data-stat':'opp_pts'})]\n",
    "    team_results = list(zip([team.text]*len(opponents),opponents,date,results,team_score,opponent_score))[:-1]\n",
    "    for team_result in team_results:\n",
    "        all_results.append(team_result)"
   ]
  },
  {
   "cell_type": "markdown",
   "metadata": {},
   "source": [
    "Check out what this `all_results` looks like for one team."
   ]
  },
  {
   "cell_type": "code",
   "execution_count": 117,
   "metadata": {
    "collapsed": false
   },
   "outputs": [
    {
     "data": {
      "text/plain": [
       "[('Louisville', 'Evansville', '2016-11-11', 'W', '78', '47'),\n",
       " ('Louisville', 'William & Mary', '2016-11-14', 'W', '91', '58'),\n",
       " ('Louisville', 'Long Beach State', '2016-11-17', 'W', '88', '56'),\n",
       " ('Louisville', 'Old Dominion', '2016-11-23', 'W', '68', '62'),\n",
       " ('Louisville', 'Wichita State', '2016-11-24', 'W', '62', '52'),\n",
       " ('Louisville', 'Baylor', '2016-11-25', 'L', '63', '66'),\n",
       " ('Louisville', 'Purdue', '2016-11-30', 'W', '71', '64'),\n",
       " ('Louisville', 'Grand Canyon', '2016-12-03', 'W', '79', '70'),\n",
       " ('Louisville', 'Southern Illinois', '2016-12-07', 'W', '74', '51'),\n",
       " ('Louisville', 'Texas Southern', '2016-12-10', 'W', '102', '71'),\n",
       " ('Louisville', 'Eastern Kentucky', '2016-12-17', 'W', '87', '56'),\n",
       " ('Louisville', 'Kentucky', '2016-12-21', 'W', '73', '70'),\n",
       " ('Louisville', 'Virginia', '2016-12-28', 'L', '53', '61'),\n",
       " ('Louisville', 'Indiana', '2016-12-31', 'W', '77', '62'),\n",
       " ('Louisville', 'Notre Dame', '2017-01-04', 'L', '70', '77'),\n",
       " ('Louisville', 'Georgia Tech', '2017-01-07', 'W', '65', '50'),\n",
       " ('Louisville', 'Pittsburgh', '2017-01-11', 'W', '85', '80'),\n",
       " ('Louisville', 'Duke', '2017-01-14', 'W', '78', '69'),\n",
       " ('Louisville', 'Clemson', '2017-01-19', 'W', '92', '60'),\n",
       " ('Louisville', 'Florida State', '2017-01-21', 'L', '68', '73'),\n",
       " ('Louisville', 'Pittsburgh', '2017-01-24', 'W', '106', '51'),\n",
       " ('Louisville', 'North Carolina State', '2017-01-29', 'W', '85', '60'),\n",
       " ('Louisville', 'Boston College', '2017-02-04', 'W', '90', '67'),\n",
       " ('Louisville', 'Virginia', '2017-02-06', 'L', '55', '71'),\n",
       " ('Louisville', 'Miami (FL)', '2017-02-11', 'W', '71', '66'),\n",
       " ('Louisville', 'Syracuse', '2017-02-13', 'W', '76', '72'),\n",
       " ('Louisville', 'Virginia Tech', '2017-02-18', 'W', '94', '90'),\n",
       " ('Louisville', 'North Carolina', '2017-02-22', 'L', '63', '74'),\n",
       " ('Louisville', 'Syracuse', '2017-02-26', 'W', '88', '68'),\n",
       " ('Louisville', 'Wake Forest', '2017-03-01', 'L', '81', '88'),\n",
       " ('Louisville', 'Notre Dame', '2017-03-04', 'W', '71', '64'),\n",
       " ('Louisville', 'Duke', '2017-03-09', 'L', '77', '81')]"
      ]
     },
     "execution_count": 117,
     "metadata": {},
     "output_type": "execute_result"
    }
   ],
   "source": [
    "[i for i in all_results if i[0] == 'Louisville']"
   ]
  },
  {
   "cell_type": "markdown",
   "metadata": {},
   "source": [
    "Dump this into a big CSV as a backup."
   ]
  },
  {
   "cell_type": "code",
   "execution_count": 140,
   "metadata": {
    "collapsed": false
   },
   "outputs": [],
   "source": [
    "pd.DataFrame(all_results,columns=['team','opponent','date','result','score','opp_score']).to_csv('results.csv')"
   ]
  },
  {
   "cell_type": "markdown",
   "metadata": {},
   "source": [
    "Only include winners so as not to double count."
   ]
  },
  {
   "cell_type": "code",
   "execution_count": 110,
   "metadata": {
    "collapsed": false
   },
   "outputs": [
    {
     "data": {
      "text/plain": [
       "(1987, 1412)"
      ]
     },
     "execution_count": 110,
     "metadata": {},
     "output_type": "execute_result"
    }
   ],
   "source": [
    "reduced_results = list()\n",
    "for (team, opponent, date, result, score, opp_score) in all_results:\n",
    "    if score > opp_score:\n",
    "        reduced_results.append((team, opponent, date, score, opp_score))\n",
    "        \n",
    "len(all_results), len(reduced_results)"
   ]
  },
  {
   "cell_type": "markdown",
   "metadata": {},
   "source": [
    "What are the names of all the teams in the tournament?"
   ]
  },
  {
   "cell_type": "code",
   "execution_count": 111,
   "metadata": {
    "collapsed": false
   },
   "outputs": [],
   "source": [
    "tournament_teams = [i.text for i in teams_2017]"
   ]
  },
  {
   "cell_type": "markdown",
   "metadata": {},
   "source": [
    "Make a directed graph if team *i* beat team *j* by *w* points. \n",
    "\n",
    "**TODO: Some weirdness with differentials still being negative. Just take absolute value now**"
   ]
  },
  {
   "cell_type": "code",
   "execution_count": 118,
   "metadata": {
    "collapsed": false
   },
   "outputs": [
    {
     "name": "stdout",
     "output_type": "stream",
     "text": [
      "There are 56 nodes and 207 edges in the network\n"
     ]
    }
   ],
   "source": [
    "g = nx.DiGraph()\n",
    "\n",
    "for (team, opponent, date, score, opp_score) in reduced_results:\n",
    "    if opponent in tournament_teams:\n",
    "        differential = int(score) - int(opp_score)\n",
    "        if g.has_edge(team,opponent):\n",
    "            g[team][opponent]['weight'] += differential\n",
    "        else:\n",
    "            g.add_edge(team, opponent, weight = abs(differential))\n",
    "        \n",
    "print(\"There are {0} nodes and {1} edges in the network\".format(g.number_of_nodes(), g.number_of_edges()))\n",
    "\n",
    "nx.write_gexf(g,'tournament_schedule.gexf')"
   ]
  },
  {
   "cell_type": "markdown",
   "metadata": {},
   "source": [
    "What are the teams with the greatest weighted out-degrees, or beating the most other teams by the most points?"
   ]
  },
  {
   "cell_type": "code",
   "execution_count": 131,
   "metadata": {
    "collapsed": false
   },
   "outputs": [
    {
     "data": {
      "text/plain": [
       "Villanova                    146.0\n",
       "UNC                          121.0\n",
       "West Virginia                118.0\n",
       "Butler                       112.0\n",
       "Michigan                     109.0\n",
       "Florida State                108.0\n",
       "Baylor                       103.0\n",
       "Kentucky                     102.0\n",
       "Florida                       94.0\n",
       "Duke                          76.0\n",
       "Wisconsin                     71.0\n",
       "Purdue                        70.0\n",
       "Marquette                     70.0\n",
       "Gonzaga                       65.0\n",
       "Virginia                      64.0\n",
       "Creighton                     62.0\n",
       "Minnesota                     55.0\n",
       "Maryland                      54.0\n",
       "Oklahoma State                52.0\n",
       "Michigan State                52.0\n",
       "Iowa State                    51.0\n",
       "Notre Dame                    50.0\n",
       "Arizona                       49.0\n",
       "Cincinnati                    47.0\n",
       "Louisville                    45.0\n",
       "Vanderbilt                    42.0\n",
       "South Carolina                37.0\n",
       "Kansas                        35.0\n",
       "Texas Southern                31.0\n",
       "Seton Hall                    31.0\n",
       "Oregon                        29.0\n",
       "Middle Tennessee              28.0\n",
       "Dayton                        25.0\n",
       "Virginia Tech                 24.0\n",
       "Saint Mary's (CA)             22.0\n",
       "Wichita State                 22.0\n",
       "Arkansas                      22.0\n",
       "Northwestern                  20.0\n",
       "VCU                           19.0\n",
       "Miami (FL)                    17.0\n",
       "Nevada                        15.0\n",
       "Winthrop                      14.0\n",
       "UCLA                          13.0\n",
       "ETSU                          12.0\n",
       "SMU                            9.0\n",
       "Xavier                         9.0\n",
       "Rhode Island                   5.0\n",
       "Bucknell                       3.0\n",
       "Iona                           2.0\n",
       "Princeton                      2.0\n",
       "Jacksonville State             0.0\n",
       "North Carolina-Wilmington      0.0\n",
       "Florida Gulf Coast             0.0\n",
       "Northern Kentucky              0.0\n",
       "South Dakota State             0.0\n",
       "Vermont                        0.0\n",
       "dtype: float64"
      ]
     },
     "execution_count": 131,
     "metadata": {},
     "output_type": "execute_result"
    }
   ],
   "source": [
    "d = {}\n",
    "for node in g.nodes():\n",
    "    d[node] = np.sum([g[node][successor]['weight'] for successor in g.successors(node)])\n",
    "    \n",
    "pd.Series(d).sort_values(ascending=False)"
   ]
  },
  {
   "cell_type": "markdown",
   "metadata": {},
   "source": [
    "Alternatively what teams have beaten teams that beat lots of other teams?"
   ]
  },
  {
   "cell_type": "code",
   "execution_count": 135,
   "metadata": {
    "collapsed": false
   },
   "outputs": [
    {
     "data": {
      "text/plain": [
       "Winthrop                     9.000000\n",
       "Xavier                       7.777778\n",
       "Texas Southern               7.000000\n",
       "Creighton                    6.354839\n",
       "Virginia Tech                6.291667\n",
       "Notre Dame                   5.660000\n",
       "Virginia                     5.656250\n",
       "Kansas                       5.400000\n",
       "Wisconsin                    5.352113\n",
       "Seton Hall                   5.322581\n",
       "Michigan State               5.230769\n",
       "Northwestern                 5.200000\n",
       "Purdue                       5.128571\n",
       "Michigan                     5.064220\n",
       "UNC                          4.876033\n",
       "Miami (FL)                   4.823529\n",
       "Duke                         4.723684\n",
       "Louisville                   4.555556\n",
       "Minnesota                    4.527273\n",
       "Villanova                    4.465753\n",
       "Florida State                4.250000\n",
       "West Virginia                4.093220\n",
       "Bucknell                     4.000000\n",
       "Vanderbilt                   3.976190\n",
       "Oregon                       3.931034\n",
       "UCLA                         3.923077\n",
       "Iowa State                   3.882353\n",
       "Marquette                    3.771429\n",
       "Arkansas                     3.681818\n",
       "Kentucky                     3.607843\n",
       "Middle Tennessee             3.285714\n",
       "Butler                       3.250000\n",
       "South Carolina               3.081081\n",
       "Rhode Island                 3.000000\n",
       "SMU                          3.000000\n",
       "Baylor                       2.922330\n",
       "Maryland                     2.814815\n",
       "Florida                      2.670213\n",
       "Gonzaga                      2.615385\n",
       "Oklahoma State               2.211538\n",
       "Arizona                      2.163265\n",
       "VCU                          1.684211\n",
       "Dayton                       1.600000\n",
       "Cincinnati                   1.425532\n",
       "Saint Mary's (CA)            1.363636\n",
       "Iona                         1.000000\n",
       "Princeton                    1.000000\n",
       "Nevada                       1.000000\n",
       "Jacksonville State           0.000000\n",
       "North Carolina-Wilmington    0.000000\n",
       "Florida Gulf Coast           0.000000\n",
       "Northern Kentucky            0.000000\n",
       "ETSU                         0.000000\n",
       "South Dakota State           0.000000\n",
       "Vermont                      0.000000\n",
       "Wichita State                0.000000\n",
       "dtype: float64"
      ]
     },
     "execution_count": 135,
     "metadata": {},
     "output_type": "execute_result"
    }
   ],
   "source": [
    "pd.Series(nx.neighbor_degree.average_neighbor_degree(g,source='out',target='out',weight='weight')).sort_values(ascending=False)"
   ]
  },
  {
   "cell_type": "code",
   "execution_count": null,
   "metadata": {
    "collapsed": true
   },
   "outputs": [],
   "source": []
  }
 ],
 "metadata": {
  "anaconda-cloud": {},
  "kernelspec": {
   "display_name": "Python [conda root]",
   "language": "python",
   "name": "conda-root-py"
  },
  "language_info": {
   "codemirror_mode": {
    "name": "ipython",
    "version": 3
   },
   "file_extension": ".py",
   "mimetype": "text/x-python",
   "name": "python",
   "nbconvert_exporter": "python",
   "pygments_lexer": "ipython3",
   "version": "3.5.2"
  }
 },
 "nbformat": 4,
 "nbformat_minor": 1
}
